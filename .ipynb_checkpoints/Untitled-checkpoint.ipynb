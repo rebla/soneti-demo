{
 "cells": [
  {
   "cell_type": "code",
   "execution_count": 1,
   "metadata": {
    "collapsed": true
   },
   "outputs": [],
   "source": [
    "import requests\n",
    "import json\n",
    "import time\n",
    "from bs4 import BeautifulSoup\n",
    "from datetime import datetime as dt\n",
    "import locale"
   ]
  },
  {
   "cell_type": "code",
   "execution_count": 28,
   "metadata": {},
   "outputs": [
    {
     "name": "stdout",
     "output_type": "stream",
     "text": [
      "[]\n"
     ]
    }
   ],
   "source": [
    "s = requests.session()\n",
    "res = s.get('https://www.tripadvisor.es/Search', headers={'User-Agent': 'Mozilla/5.0 (X11; Linux x86_64) AppleWebKit/537.36 (KHTML, like Gecko) Chrome/65.0.3325.162 Safari/537.36'})\n",
    "cookies = dict(res.cookies)\n",
    "r = s.get('https://www.tripadvisor.es/Search?geo=187427&ssrc=a&q={}'.format(\"restaurantes lateral\"), \n",
    "    headers={'User-Agent': 'Mozilla/5.0 (X11; Linux x86_64) AppleWebKit/537.36 (KHTML, like Gecko) Chrome/65.0.3325.162 Safari/537.36'}, \n",
    "    cookies = cookies)\n",
    "soup = BeautifulSoup(r.text, 'html.parser')\n",
    "restaurants = []\n",
    "with open('trip.json', 'a') as outfile:\n",
    "    #print(soup)\n",
    "    for i, article in enumerate(soup.select('.title')):\n",
    "        if i > 0 and i < 5 and 'EATERY' in str(article):\n",
    "            url = \"https://www.tripadvisor.es\"+str(article).split(\"'\")[7]\n",
    "            restaurants.append(url)\n",
    "    reviews =[]\n",
    "    print(restaurants)\n",
    "    for restaurant in restaurants:\n",
    "        s = requests.session()\n",
    "        res = s.get(restaurant, headers={'User-Agent': 'Mozilla/5.0 (X11; Linux x86_64) AppleWebKit/537.36 (KHTML, like Gecko) Chrome/65.0.3325.162 Safari/537.36'})\n",
    "        cookies = dict(res.cookies)\n",
    "        r = s.get(restaurant, \n",
    "            headers={'User-Agent': 'Mozilla/5.0 (X11; Linux x86_64) AppleWebKit/537.36 (KHTML, like Gecko) Chrome/65.0.3325.162 Safari/537.36'}, \n",
    "            cookies = cookies)\n",
    "        soup = BeautifulSoup(r.text, 'html.parser')\n",
    "        for i, article in enumerate(soup.select('.review-container')):\n",
    "            aux = dict()\n",
    "            aux['@id'] = \"http://tripadvisor.es\"+article.select('.quote')[0].find('a').get('href')\n",
    "            aux['schema:reviewRating'] = int(str(article.select('.rating')[0].find_all('span')[0]).split('ui_bubble_rating bubble_')[1].split('\"')[0])\n",
    "            aux['schema:author'] = 'Tripadvisor'\n",
    "            aux[\"@type\"] = \"schema:Review\"\n",
    "            aux['schema:search'] = \"lateral\"\n",
    "            aux['schema:creator'] = article.select('.username')[0].find('span').string\n",
    "            aux['schema:headline'] = article.select('.quote')[0].find('span').string\n",
    "            aux['schema:reviewBody'] = article.select('.entry')[0].find('p').text\n",
    "            aux['schema:articleBody'] = article.select('.entry')[0].find('p').text\n",
    "            try:\n",
    "                aux['schema:Place'] = article.select('.userLocation')[0].text\n",
    "            except:\n",
    "                pass\n",
    "            months = {'enero': '01', 'febrero': '02', 'marzo': '03', 'abril': '04', 'mayo': '05', 'junio': '06',\n",
    "             'julio':'07','agosto':'08','septiembre':'09','octubre':'10','noviembre':'11','diciembre':'12'}\n",
    "\n",
    "            mes = months[(article.select('.ratingDate')[0].get('title').split(' ')[2])]\n",
    "            fecha = (article.select('.ratingDate')[0].get('title').split(' ')[0])+' '+ mes +' '+(article.select('.ratingDate')[0].get('title').split(' ')[4])\n",
    "            date = time.strptime(fecha, \"%d %m %Y\")\n",
    "            aux['schema:datePublished'] = str(time.strftime('%Y-%m-%dT00:00:00Z', date))\n",
    "            reviews.append(aux)\n",
    "    json.dump(reviews, outfile)"
   ]
  },
  {
   "cell_type": "code",
   "execution_count": null,
   "metadata": {
    "collapsed": true
   },
   "outputs": [],
   "source": []
  },
  {
   "cell_type": "code",
   "execution_count": null,
   "metadata": {
    "collapsed": true
   },
   "outputs": [],
   "source": []
  }
 ],
 "metadata": {
  "kernelspec": {
   "display_name": "Python 3",
   "language": "python",
   "name": "python3"
  },
  "language_info": {
   "codemirror_mode": {
    "name": "ipython",
    "version": 3
   },
   "file_extension": ".py",
   "mimetype": "text/x-python",
   "name": "python",
   "nbconvert_exporter": "python",
   "pygments_lexer": "ipython3",
   "version": "3.6.2"
  }
 },
 "nbformat": 4,
 "nbformat_minor": 2
}
